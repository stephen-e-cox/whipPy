{
  "nbformat": 4,
  "nbformat_minor": 0,
  "metadata": {
    "colab": {
      "provenance": [],
      "authorship_tag": "ABX9TyPVMxxruSUSMOSGd8QtkHQn",
      "include_colab_link": true
    },
    "kernelspec": {
      "name": "python3",
      "display_name": "Python 3"
    },
    "language_info": {
      "name": "python"
    }
  },
  "cells": [
    {
      "cell_type": "markdown",
      "metadata": {
        "id": "view-in-github",
        "colab_type": "text"
      },
      "source": [
        "<a href=\"https://colab.research.google.com/github/stephen-e-cox/whipPy/blob/main/whipPy.ipynb\" target=\"_parent\"><img src=\"https://colab.research.google.com/assets/colab-badge.svg\" alt=\"Open In Colab\"/></a>"
      ]
    },
    {
      "cell_type": "code",
      "execution_count": 187,
      "metadata": {
        "id": "g2Av0wUn6vgq"
      },
      "outputs": [],
      "source": [
        "from google.colab import auth\n",
        "auth.authenticate_user()\n",
        "\n",
        "import re\n",
        "import numpy as np\n",
        "import matplotlib.pyplot as plt\n",
        "import pandas as pd\n",
        "import datetime\n",
        "import gspread\n",
        "import gspread_dataframe as gd\n",
        "from google.colab import auth\n",
        "from google.auth import default\n",
        "\n",
        "auth.authenticate_user()\n",
        "creds, _ = default()\n",
        "\n",
        "gc = gspread.authorize(creds)"
      ]
    },
    {
      "cell_type": "code",
      "source": [
        "## Edit this section for each new import\n",
        "\n",
        "racedate = datetime.date(2023, 2, 25) ## date in year-month-day format\n",
        "racedist = 4 ## distance in one of the below units (for named distances like marathon, use 1)\n",
        "racedist_units = \"miles\" ## miles, km, m, marathon, half marathon\n",
        "racefile_name = \"2023_NYRR_Al_Gordon_4M\""
      ],
      "metadata": {
        "id": "6GdghgwgcsUh"
      },
      "execution_count": 44,
      "outputs": []
    },
    {
      "cell_type": "code",
      "source": [
        "## This is the master spreadsheet\n",
        "wb = gc.open_by_url(\"https://docs.google.com/spreadsheets/d/1n_xmaQuNmj3JBfOXJEN8c4HZAOUPOjtPAM-fY4h4K54/edit#gid=0\")\n",
        "\n",
        "## This is the spreadsheet and worksheet containing current time standards\n",
        "stds = gc.open_by_url(\"https://docs.google.com/spreadsheets/d/1G7a3kSUUD1TZRWZbeACTwQxQfW4yCdJqC5qytQ-EgdM/edit#gid=0\")\n",
        "qual_stds = stds.worksheet('2022_standards').get_all_values()\n",
        "\n",
        "## This is the new race file to read. Drop it in the temporary files list in Colab. It will not be saved.\n",
        "racefile = open(racefile_name + \".txt\")\n",
        "\n",
        "## This creates a new worksheet with the name of the racefile. If it already\n",
        "## exists, it will be deleted!\n",
        "try:\n",
        "  ws = wb.add_worksheet(racefile_name, rows=1, cols=1)\n",
        "except:\n",
        "  ws = wb.worksheet(racefile_name)\n",
        "  wb.del_worksheet(ws)\n",
        "  ws = wb.add_worksheet(racefile_name, rows=1, cols=1)\n",
        "\n",
        "## This creates a single archive of the summary spreadsheet, and deletes any\n",
        "## existing one. This is just a light backup solution in case you screw up an\n",
        "## import\n",
        "sum_worksheet = wb.worksheet(\"Summary\")\n",
        "try:\n",
        "  wb.duplicate_sheet(sum_worksheet.id, new_sheet_name=\"Summary_archive\")\n",
        "except:\n",
        "  sum_arch_worksheet = wb.worksheet(\"Summary_archive\")\n",
        "  wb.del_worksheet(sum_arch_worksheet)\n",
        "  wb.duplicate_sheet(sum_worksheet.id, new_sheet_name=\"Summary_archive\")"
      ],
      "metadata": {
        "id": "DfBzH4z77I_y"
      },
      "execution_count": 198,
      "outputs": []
    },
    {
      "cell_type": "code",
      "source": [
        "## Process the race results into a friendly format\n",
        "\n",
        "## Split it up by line first\n",
        "racefile.seek(0)\n",
        "data = racefile.read().split('\\n')\n",
        "\n",
        "## The format we get from NYRR page copy/paste is eight lines per entry\n",
        "chunks = [data[x:x+8] for x in range(0, len(data), 8)]\n",
        "\n",
        "racedata = pd.DataFrame(chunks, columns=[\"Name\", \"AgeLocBib\", \"Text1\", \"Time\", \"Text2\", \"Pace\", \"Text3\", \"Place\"])\n",
        "\n",
        "## Split Age/Location/Bib line\n",
        "racedata[[\"Age\", \"LocBib\"]] = racedata[\"AgeLocBib\"].str.split(n=1, expand=True)\n",
        "racedata[[\"Location\", \"Text4\", \"Bib\"]] = racedata[\"LocBib\"].str.rsplit(n=2, expand=True)\n",
        "racedata['Gender'] = racedata['Age'].str[0]\n",
        "racedata['Age'] = racedata['Age'].str[1:]\n",
        "\n",
        "## We don't need labels like \"Time\" from the text file. We are also not using these\n",
        "## to reshape because there is no \"Name\" or \"Age/Location\" label\n",
        "racedata.drop(columns=[\"AgeLocBib\", \"LocBib\", \"Text1\", \"Text2\", \"Text3\", \"Text4\"], inplace=True)\n",
        "\n",
        "## Format numeric columns. There is probably a more elegant way to do this but it\n",
        "## is tough to convince python/Pandas to treat time-formatted columns\n",
        "## as length of time rather than timestamp or elapsed time since X\n",
        "Time_formatted = pd.to_datetime(racedata[\"Time\"], format = '%H:%M:%S')\n",
        "Pace_formatted = pd.to_datetime(racedata[\"Pace\"], format = '%M:%S')\n",
        "racedata['Time_s'] = ((Time_formatted - Time_formatted.dt.normalize()) / pd.Timedelta('1 second')).astype(int)\n",
        "racedata['Pace_s'] = ((Pace_formatted - Pace_formatted.dt.normalize()) / pd.Timedelta('1 second')).astype(int)\n",
        "racedata[\"Place\"] = racedata[\"Place\"].map(lambda s: s.replace(',',''))\n",
        "racedata[\"Place\"] = pd.to_numeric(racedata[\"Place\"])\n",
        "racedata[\"Age\"] = pd.to_numeric(racedata[\"Age\"])"
      ],
      "metadata": {
        "id": "qkRO-7pxOhCq"
      },
      "execution_count": 113,
      "outputs": []
    },
    {
      "cell_type": "code",
      "source": [
        "## Load the qualifying time\n",
        "stds_df = pd.DataFrame(qual_stds)\n",
        "stds_df.columns = stds_df.iloc[0]\n",
        "stds_df = stds_df.iloc[1:]\n",
        "\n",
        "stds_df[\"Distance\"] = pd.to_numeric(stds_df[\"Distance\"])\n",
        "stds_df[\"Hours\"] = pd.to_numeric(stds_df[\"Hours\"])\n",
        "stds_df[\"Minutes\"] = pd.to_numeric(stds_df[\"Minutes\"])\n",
        "stds_df[\"Seconds\"] = pd.to_numeric(stds_df[\"Seconds\"])\n",
        "\n",
        "stds_df['Time_standard_s'] = stds_df['Hours']*3600 + stds_df['Minutes']*60 + stds_df['Seconds']\n",
        "\n",
        "# try: \n",
        "dist_filter = stds_df['Distance'] == racedist\n",
        "unit_filter = stds_df['Units'] == racedist_units\n",
        "\n",
        "women_filter = stds_df['Gender'] == \"W\"\n",
        "men_filter = stds_df['Gender'] == \"M\"\n",
        "nonbinary_filter = stds_df['Gender'] == \"X\"\n",
        "\n",
        "## If the standard is not present, it will be set to zero, which will result in \n",
        "## no runners achieving the standard, and an empty qualifying table\n",
        "\n",
        "try:\n",
        "  std_women = stds_df.loc[dist_filter & unit_filter & women_filter]['Time_standard_s'].item()\n",
        "except:\n",
        "  std_women = 0\n",
        "\n",
        "try:\n",
        "  std_men = stds_df.loc[dist_filter & unit_filter & men_filter]['Time_standard_s'].item()\n",
        "except:\n",
        "  std_men = 0\n",
        "\n",
        "try:\n",
        "  std_nonbinary = stds_df.loc[dist_filter & unit_filter & nonbinary_filter]['Time_standard_s'].item()\n",
        "except:\n",
        "  std_nonbinary = 0"
      ],
      "metadata": {
        "id": "i8Efv63Wyh_b"
      },
      "execution_count": 181,
      "outputs": []
    },
    {
      "cell_type": "code",
      "source": [
        "## Search for qualifying times and top performances\n",
        "racedata_women = racedata.query(\"Gender == 'W'\")\n",
        "racedata_men = racedata.query(\"Gender == 'M'\")\n",
        "racedata_nonbinary = racedata.query(\"Gender == 'X'\")\n",
        "\n",
        "top_women = racedata_women.nsmallest(10, columns=\"Time_s\")\n",
        "top_men = racedata_men.nsmallest(10, columns=\"Time_s\")\n",
        "top_nonbinary = racedata_nonbinary.nsmallest(10, columns=\"Time_s\")\n",
        "\n",
        "qualifying_women = racedata_women.query(\"Time_s <= {}\".format(std_women))\n",
        "qualifying_men = racedata_men.query(\"Time_s <= {}\".format(std_men))\n",
        "qualifying_nonbinary = racedata_nonbinary.query(\"Time_s <= {}\".format(std_nonbinary))"
      ],
      "metadata": {
        "id": "edB71TwBclM-"
      },
      "execution_count": null,
      "outputs": []
    },
    {
      "cell_type": "code",
      "source": [
        "## Write the Google sheet for this race\n",
        "\n",
        "# top_women_values = top_women.values.tolist()\n",
        "# ws.values_append(racefile_name, {\"valueInputOption': 'RAW\"}, {\"values\": top_women_values})\n",
        "\n",
        "ws = wb.worksheet(racefile_name)\n",
        "ws.add_rows(2)\n",
        "ws.update_cell(ws.row_count+2, 1, 'Qualifying Women')\n",
        "\n",
        "if qualifying_women.shape[0] > 0:\n",
        "  ws = wb.worksheet(racefile_name)\n",
        "  ws.add_rows(qualifying_women.shape[0])\n",
        "  gd.set_with_dataframe(worksheet=ws,dataframe=qualifying_women,include_index=False,include_column_header=True,row=ws.row_count+1,resize=False)\n",
        "\n",
        "ws = wb.worksheet(racefile_name)\n",
        "ws.add_rows(2)\n",
        "ws.update_cell(ws.row_count+2, 1, 'Qualifying Men')\n",
        "\n",
        "if qualifying_men.shape[0] > 0:\n",
        "  ws = wb.worksheet(racefile_name)\n",
        "  ws.add_rows(qualifying_men.shape[0])\n",
        "  gd.set_with_dataframe(worksheet=ws,dataframe=qualifying_men,include_index=False,include_column_header=True,row=ws.row_count+1,resize=False)\n",
        "\n",
        "ws = wb.worksheet(racefile_name)\n",
        "ws.add_rows(2)\n",
        "ws.update_cell(ws.row_count+2, 1, 'Qualifying Nonbinary')\n",
        "\n",
        "if qualifying_nonbinary.shape[0] > 0:\n",
        "  ws = wb.worksheet(racefile_name)\n",
        "  ws.add_rows(qualifying_nonbinary.shape[0])\n",
        "  gd.set_with_dataframe(worksheet=ws,dataframe=qualifying_nonbinary,include_index=False,include_column_header=True,row=ws.row_count+1,resize=False)\n",
        "\n",
        "ws = wb.worksheet(racefile_name)\n",
        "ws.add_rows(2)\n",
        "ws.update_cell(ws.row_count+2, 1, 'Top Women')\n",
        "\n",
        "if top_women.shape[0] > 0:\n",
        "  ws = wb.worksheet(racefile_name)\n",
        "  ws.add_rows(top_women.shape[0])\n",
        "  gd.set_with_dataframe(worksheet=ws,dataframe=top_women,include_index=False,include_column_header=True,row=ws.row_count+1,resize=False)\n",
        "\n",
        "ws = wb.worksheet(racefile_name)\n",
        "ws.add_rows(2)\n",
        "ws.update_cell(ws.row_count+2, 1, 'Top Men')\n",
        "\n",
        "if top_men.shape[0] > 0:\n",
        "  ws = wb.worksheet(racefile_name)\n",
        "  ws.add_rows(top_men.shape[0])\n",
        "  gd.set_with_dataframe(worksheet=ws,dataframe=top_men,include_index=False,include_column_header=True,row=ws.row_count+1,resize=False)\n",
        "\n",
        "ws = wb.worksheet(racefile_name)\n",
        "ws.add_rows(2)\n",
        "ws.update_cell(ws.row_count+2, 1, 'Top Nonbinary')\n",
        "\n",
        "if top_nonbinary.shape[0] > 0:\n",
        "  ws = wb.worksheet(racefile_name)\n",
        "  ws.add_rows(top_nonbinary.shape[0])\n",
        "  gd.set_with_dataframe(worksheet=ws,dataframe=top_nonbinary,include_index=False,include_column_header=True,row=ws.row_count+1,resize=False)\n",
        "\n",
        "ws = wb.worksheet(racefile_name)\n",
        "ws.add_rows(2)\n",
        "ws.update_cell(ws.row_count+2, 1, 'All Team Results')\n",
        "\n",
        "ws = wb.worksheet(racefile_name)\n",
        "ws.add_rows(racedata.shape[0])\n",
        "gd.set_with_dataframe(worksheet=ws,dataframe=racedata,include_index=False,include_column_header=True,row=ws.row_count+1,resize=False)"
      ],
      "metadata": {
        "id": "m0CDNUPC912f"
      },
      "execution_count": 200,
      "outputs": []
    },
    {
      "cell_type": "markdown",
      "source": [
        "# New Section"
      ],
      "metadata": {
        "id": "HAGAkLPjC7UI"
      }
    }
  ]
}