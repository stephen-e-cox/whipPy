{
  "nbformat": 4,
  "nbformat_minor": 0,
  "metadata": {
    "colab": {
      "provenance": [],
      "authorship_tag": "ABX9TyPiu7S4eLvohRApwP08oDjD",
      "include_colab_link": true
    },
    "kernelspec": {
      "name": "python3",
      "display_name": "Python 3"
    },
    "language_info": {
      "name": "python"
    }
  },
  "cells": [
    {
      "cell_type": "markdown",
      "metadata": {
        "id": "view-in-github",
        "colab_type": "text"
      },
      "source": [
        "<a href=\"https://colab.research.google.com/github/stephen-e-cox/whipPy/blob/main/whipPy.ipynb\" target=\"_parent\"><img src=\"https://colab.research.google.com/assets/colab-badge.svg\" alt=\"Open In Colab\"/></a>"
      ]
    },
    {
      "cell_type": "code",
      "execution_count": 41,
      "metadata": {
        "id": "g2Av0wUn6vgq"
      },
      "outputs": [],
      "source": [
        "from google.colab import auth\n",
        "auth.authenticate_user()\n",
        "\n",
        "import re\n",
        "import numpy as np\n",
        "import matplotlib.pyplot as plt\n",
        "import pandas as pd\n",
        "import datettime\n",
        "import gspread\n",
        "from google.colab import auth\n",
        "from google.auth import default\n",
        "\n",
        "auth.authenticate_user()\n",
        "creds, _ = default()\n",
        "\n",
        "gc = gspread.authorize(creds)"
      ]
    },
    {
      "cell_type": "code",
      "source": [
        "## Edit this section for each new import\n",
        "\n",
        "racedate = datetime.date(2023, 2, 25) ## date in year-month-day format\n",
        "racedist = 4 ## distance in one of the below units (for named distances like marathon, use 1)\n",
        "racedist_units = \"miles\" ## miles, km, m, marathon, half marathon\n",
        "racefile_name = \"2023_NYRR_Al_Gordon_4M\""
      ],
      "metadata": {
        "id": "6GdghgwgcsUh"
      },
      "execution_count": 44,
      "outputs": []
    },
    {
      "cell_type": "code",
      "source": [
        "## This is the master spreadsheet\n",
        "wb = gc.open_by_url(\"https://docs.google.com/spreadsheets/d/1n_xmaQuNmj3JBfOXJEN8c4HZAOUPOjtPAM-fY4h4K54/edit#gid=0\")\n",
        "\n",
        "## This is the spreadsheet containing current time standards\n",
        "stds = gc.open_by_url(\"https://docs.google.com/spreadsheets/d/1G7a3kSUUD1TZRWZbeACTwQxQfW4yCdJqC5qytQ-EgdM/edit#gid=0\")\n",
        "\n",
        "## This is the new race file to read. Drop it in the temporary files list in Colab. It will not be saved.\n",
        "racefile = open(racefile_name + \".txt\")\n",
        "\n",
        "## This creates a new worksheet with the name of the racefile. If it already\n",
        "## exists, it will be deleted!\n",
        "try:\n",
        "  ws = wb.add_worksheet(racefile_name, rows=1, cols=1)\n",
        "except:\n",
        "  worksheet = wb.worksheet(racefile_name)\n",
        "  wb.del_worksheet(worksheet)\n",
        "  ws = wb.add_worksheet(racefile_name, rows=1, cols=1)\n",
        "\n",
        "## This creates a single archive of the summary spreadsheet, and deletes any\n",
        "## existing one. This is just a light backup solution in case you screw up an\n",
        "## import\n",
        "sum_worksheet = wb.worksheet(\"Summary\")\n",
        "try:\n",
        "  wb.duplicate_sheet(sum_worksheet.id, new_sheet_name=\"Summary_archive\")\n",
        "except:\n",
        "  sum_arch_worksheet = wb.worksheet(\"Summary_archive\")\n",
        "  wb.del_worksheet(sum_arch_worksheet)\n",
        "  wb.duplicate_sheet(sum_worksheet.id, new_sheet_name=\"Summary_archive\")"
      ],
      "metadata": {
        "id": "DfBzH4z77I_y"
      },
      "execution_count": 49,
      "outputs": []
    },
    {
      "cell_type": "code",
      "source": [
        "## Process the race results into a friendly format\n",
        "\n",
        "## Split it up by line first\n",
        "racefile.seek(0)\n",
        "data = racefile.read().split('\\n')\n",
        "\n",
        "## The format we get from NYRR page copy/paste is eight lines per entry\n",
        "chunks = [data[x:x+8] for x in range(0, len(data), 8)]\n",
        "\n",
        "racedata = pd.DataFrame(chunks, columns=[\"Name\", \"AgeLocBib\", \"Text1\", \"Time\", \"Text2\", \"Pace\", \"Text3\", \"Place\"])\n",
        "\n",
        "## Split Age/Location/Bib line\n",
        "racedata[[\"Age\", \"LocBib\"]] = racedata[\"AgeLocBib\"].str.split(n=1, expand=True)\n",
        "racedata[[\"Location\", \"Text4\", \"Bib\"]] = racedata[\"LocBib\"].str.rsplit(n=2, expand=True)\n",
        "racedata['Gender'] = racedata['Age'].str[0]\n",
        "racedata['Age'] = racedata['Age'].str[1:]\n",
        "\n",
        "## We don't need labels like \"Time\" from the text file. We are also not using these\n",
        "## to reshape because there is no \"Name\" or \"Age/Location\" label\n",
        "racedata.drop(columns=[\"AgeLocBib\", \"LocBib\", \"Text1\", \"Text2\", \"Text3\", \"Text4\"], inplace=True)\n",
        "\n",
        "## Format numeric columns. There is probably a more elegant way to do this but it\n",
        "## is tough to convince python/Pandas to treat time-formatted columns\n",
        "## as length of time rather than timestamp or elapsed time since X\n",
        "Time_formatted = pd.to_datetime(racedata[\"Time\"], format = '%H:%M:%S')\n",
        "Pace_formatted = pd.to_datetime(racedata[\"Pace\"], format = '%M:%S')\n",
        "racedata['Time_s'] = ((Time_formatted - Time_formatted.dt.normalize()) / pd.Timedelta('1 second')).astype(int)\n",
        "racedata['Pace_s'] = ((Pace_formatted - Pace_formatted.dt.normalize()) / pd.Timedelta('1 second')).astype(int)\n",
        "racedata[\"Place\"] = racedata[\"Place\"].map(lambda s: s.replace(',',''))\n",
        "racedata[\"Place\"] = pd.to_numeric(racedata[\"Place\"])\n",
        "racedata[\"Age\"] = pd.to_numeric(racedata[\"Age\"])"
      ],
      "metadata": {
        "id": "qkRO-7pxOhCq"
      },
      "execution_count": 100,
      "outputs": []
    },
    {
      "cell_type": "code",
      "source": [
        "## Search for qualifying times and top performances\n",
        "racedata_women = racedata.query(\"Gender == 'W'\")\n",
        "racedata_men = racedata.query(\"Gender == 'M'\")\n",
        "racedata_nonbinary = racedata.query(\"Gender == 'X'\")\n",
        "\n",
        "top_women = racedata_women.nsmallest(10, columns=\"Time_s\")\n",
        "top_men = racedata_men.nsmallest(10, columns=\"Time_s\")\n",
        "top_nonbinary = racedata_nonbinary.nsmallest(10, columns=\"Time_s\")"
      ],
      "metadata": {
        "id": "edB71TwBclM-"
      },
      "execution_count": null,
      "outputs": []
    }
  ]
}