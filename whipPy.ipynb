{
  "nbformat": 4,
  "nbformat_minor": 0,
  "metadata": {
    "colab": {
      "provenance": [],
      "authorship_tag": "ABX9TyPMoJrWk6Xbq7RCs5PM58RL",
      "include_colab_link": true
    },
    "kernelspec": {
      "name": "python3",
      "display_name": "Python 3"
    },
    "language_info": {
      "name": "python"
    }
  },
  "cells": [
    {
      "cell_type": "markdown",
      "metadata": {
        "id": "view-in-github",
        "colab_type": "text"
      },
      "source": [
        "<a href=\"https://colab.research.google.com/github/stephen-e-cox/whipPy/blob/main/whipPy.ipynb\" target=\"_parent\"><img src=\"https://colab.research.google.com/assets/colab-badge.svg\" alt=\"Open In Colab\"/></a>"
      ]
    },
    {
      "cell_type": "code",
      "execution_count": 4,
      "metadata": {
        "id": "g2Av0wUn6vgq"
      },
      "outputs": [],
      "source": [
        "from google.colab import auth\n",
        "auth.authenticate_user()\n",
        "\n",
        "import re\n",
        "import numpy as np\n",
        "import matplotlib.pyplot as plt\n",
        "import pandas as pd\n",
        "import gspread\n",
        "from google.colab import auth\n",
        "from google.auth import default\n",
        "\n",
        "auth.authenticate_user()\n",
        "creds, _ = default()\n",
        "\n",
        "gc = gspread.authorize(creds)"
      ]
    },
    {
      "cell_type": "code",
      "source": [
        "## This is the master spreadsheet\n",
        "wb = gc.open_by_url(\"https://docs.google.com/spreadsheets/d/1n_xmaQuNmj3JBfOXJEN8c4HZAOUPOjtPAM-fY4h4K54/edit#gid=0\")\n",
        "\n",
        "## This is the new race file to read. Drop it in the temporary files list in Colab. It will not be saved.\n",
        "racefile_name = \"2023_NYRR_Al_Gordon_4M\" ## change this line only\n",
        "racefile = open(racefile_name + \".txt\")\n",
        "\n",
        "## This creates a new worksheet with the name of the racefile. If it already\n",
        "## exists, it will be deleted!\n",
        "try:\n",
        "  ws = wb.add_worksheet(racefile_name, rows=1, cols=1)\n",
        "except:\n",
        "  worksheet = wb.worksheet(racefile_name)\n",
        "  wb.del_worksheet(worksheet)\n",
        "  ws = wb.add_worksheet(racefile_name, rows=1, cols=1)\n",
        "\n",
        "## This creates a single archive of the summary spreadsheet, and deletes any\n",
        "## existing one. This is just a light backup solution in case you screw up an\n",
        "## import\n",
        "sum_worksheet = wb.worksheet(\"Summary\")\n",
        "try:\n",
        "  wb.duplicate_sheet(sum_worksheet.id, new_sheet_name=\"Summary_archive\")\n",
        "except:\n",
        "  sum_arch_worksheet = wb.worksheet(\"Summary_archive\")\n",
        "  wb.del_worksheet(sum_arch_worksheet)\n",
        "  wb.duplicate_sheet(sum_worksheet.id, new_sheet_name=\"Summary_archive\")"
      ],
      "metadata": {
        "id": "DfBzH4z77I_y"
      },
      "execution_count": 20,
      "outputs": []
    },
    {
      "cell_type": "code",
      "source": [
        "## Process the race results\n",
        "\n",
        "## Split it up by line first\n",
        "racefile.seek(0)\n",
        "data = racefile.read().split('\\n')\n",
        "\n",
        "## The format we get from NYRR page copy/paste is eight lines per entry\n",
        "chunks = [data[x:x+8] for x in range(0, len(data), 8)]\n",
        "\n",
        "racedata = pd.DataFrame(chunks, columns=[\"Name\", \"AgeLocBib\", \"Text1\", \"Time\", \"Text2\", \"Pace\", \"Text3\", \"Place\"])\n",
        "\n",
        "## Split Age/Location/Bib line\n",
        "racedata[[\"Age\", \"LocBib\"]] = racedata[\"AgeLocBib\"].str.split(n=1, expand=True)\n",
        "racedata[[\"Location\", \"Text4\", \"Bib\"]] = racedata[\"LocBib\"].str.rsplit(n=2, expand=True)\n",
        "\n",
        "## We don't need labels like \"Time\" from the text file. We are also not using these\n",
        "## to reshape because there is no \"Name\" or \"Age/Location\" label\n",
        "racedata.drop(columns=[\"AgeLocBib\", \"LocBib\", \"Text1\", \"Text2\", \"Text3\", \"Text4\"], inplace=True)\n",
        "\n"
      ],
      "metadata": {
        "colab": {
          "base_uri": "https://localhost:8080/"
        },
        "id": "qkRO-7pxOhCq",
        "outputId": "4edda197-a35f-4a8d-d16b-585409d54d8e"
      },
      "execution_count": 38,
      "outputs": [
        {
          "output_type": "stream",
          "name": "stdout",
          "text": [
            "                    Name     Time   Pace  Place  Age                 Location  \\\n",
            "0        Frederick Hines  0:21:36  05:24     10  M43                      CAN   \n",
            "1             Brian Tsau  0:22:49  05:43     30  M25          NEW YORK NY USA   \n",
            "2          Michael Fosco  0:23:17  05:50     44  M29          BROOKLYN NY USA   \n",
            "3      Michael Cosentino  0:23:35  05:54     53  M46                      CAN   \n",
            "4         Alexander Dano  0:24:18  06:05     95  M26          NEW YORK NY USA   \n",
            "5          Lauren Dorsky  0:24:39  06:10    118  W27  BROOKLYN HEIGHTS NY USA   \n",
            "6         Jeffrey Clarke  0:25:27  06:22    170  M39      FOREST HILLS NY USA   \n",
            "7      Katherine Edwards  0:25:28  06:22    171  W35                      CAN   \n",
            "8             Andrew Lee  0:25:42  06:26    195  M39         SUNNYSIDE NY USA   \n",
            "9       Stephen Tuozzolo  0:25:44  06:26    201  M32          NEW YORK NY USA   \n",
            "10         Adiel Schmidt  0:26:34  06:39    289  W28          NEW YORK NY USA   \n",
            "11          Armani Abreu  0:27:26  06:52    392  M28          NEW YORK NY USA   \n",
            "12         Erika Vardaro  0:27:39  06:55    425  W27          NEW YORK NY USA   \n",
            "13      Bergan Babrowicz  0:27:51  06:58    463  W23          NEW YORK NY USA   \n",
            "14              Sam Kahn  0:27:57  07:00    479  M28          NEW YORK NY USA   \n",
            "15      David Passarelli  0:28:10  07:03    527  M41                      CAN   \n",
            "16      Isaiah Nagelkerk  0:28:34  07:09    591  M34          NEW YORK NY USA   \n",
            "17       Charles Casiano  0:28:36  07:09    596  M48          NEW YORK NY USA   \n",
            "18             Carl Kulo  0:29:38  07:25    799  M63          NEW YORK NY USA   \n",
            "19         Nicolas Simko  0:29:44  07:26    821  M28                      SUI   \n",
            "20            Chien Wang  0:29:50  07:28    843  W32          NEW YORK NY USA   \n",
            "21  Evagelos Kavouriadis  0:31:07  07:47  1,136  M58          NEW YORK NY USA   \n",
            "22      Jennifer Brotman  0:31:31  07:53  1,260  W33         MANHATTAN NY USA   \n",
            "23       Jacqueline Gill  0:32:29  08:08  1,508  W28          NEW YORK NY USA   \n",
            "24        Gerardo Javier  0:32:43  08:11  1,575  M46          NEW YORK NY USA   \n",
            "25        Alain Cagaanan  0:32:54  08:14  1,629  M33          NEW YORK NY USA   \n",
            "26         Sheril Lawson  0:33:12  08:18  1,726  W52          BROOKLYN NY USA   \n",
            "27       Susan Slotoroff  0:34:02  08:31  1,960  W37          NEW YORK NY USA   \n",
            "28          Natalie Vega  0:34:47  08:42  2,157  W31          BROOKLYN NY USA   \n",
            "29           Lora Danley  0:35:37  08:55  2,367  W55          NEW YORK NY USA   \n",
            "30          Abhay Mangal  0:36:40  09:10  2,667  M30                      IND   \n",
            "31        Morgan Steward  0:42:38  10:40  3,808  W26          NEW YORK NY USA   \n",
            "\n",
            "     Bib  \n",
            "0   4010  \n",
            "1    869  \n",
            "2   2706  \n",
            "3   2717  \n",
            "4   3316  \n",
            "5   2672  \n",
            "6    395  \n",
            "7   1506  \n",
            "8   1569  \n",
            "9   2656  \n",
            "10  3190  \n",
            "11  2678  \n",
            "12  3144  \n",
            "13  2149  \n",
            "14  1064  \n",
            "15  2842  \n",
            "16  1364  \n",
            "17  3146  \n",
            "18  1854  \n",
            "19  4326  \n",
            "20  3844  \n",
            "21   789  \n",
            "22  4629  \n",
            "23  3161  \n",
            "24  1270  \n",
            "25  1096  \n",
            "26  1214  \n",
            "27  2308  \n",
            "28  3159  \n",
            "29   269  \n",
            "30  1851  \n",
            "31  2003  \n"
          ]
        }
      ]
    }
  ]
}